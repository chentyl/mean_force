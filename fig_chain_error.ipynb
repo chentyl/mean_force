{
 "cells": [
  {
   "cell_type": "code",
   "execution_count": 1,
   "metadata": {},
   "outputs": [],
   "source": [
    "import numpy as np\n",
    "import scipy as sp\n",
    "from scipy import io,integrate,sparse\n",
    "import matplotlib.pyplot as plt\n",
    "from matplotlib.lines import Line2D\n",
    "import matplotlib.patches as mpatches\n",
    "from matplotlib.patches import Rectangle,Circle\n",
    "\n",
    "from quantum import *\n",
    "#from lanczos_bin import mystep,distribution\n",
    "\n",
    "from IPython.display import clear_output\n",
    "np.set_printoptions(linewidth=300)\n",
    "%load_ext autoreload\n",
    "%autoreload 2"
   ]
  },
  {
   "cell_type": "code",
   "execution_count": 2,
   "metadata": {},
   "outputs": [],
   "source": [
    "plt.rcParams['text.latex.preamble'] = r'\\usepackage{times}\\renewcommand{\\vec}{\\mathbf}'\n",
    "plt.rc('text', usetex=True)\n",
    "plt.rc('font', family='serif') #plt.rc('font', **{'serif': ['Times']})"
   ]
  },
  {
   "cell_type": "markdown",
   "metadata": {},
   "source": [
    "## Set up system"
   ]
  },
  {
   "cell_type": "code",
   "execution_count": 3,
   "metadata": {},
   "outputs": [],
   "source": [
    "def get_density_EVs(h,J,β,N):\n",
    "    \n",
    "    k = np.arange(N)+1\n",
    "\n",
    "    λk = h - 2*J*np.cos(k*np.pi/(N+1))\n",
    "    Nk = 1/(1+np.exp(β*λk))\n",
    "\n",
    "    σ1xσ2x = -4/(N+1)*np.sum(np.sin(k*np.pi/(N+1))*np.sin(2*k*np.pi/(N+1))*Nk)\n",
    "    σ1z = -1+4/(N+1)*np.sum(np.sin(k*np.pi/(N+1))**2*Nk)\n",
    "    σ2z = -1+4/(N+1)*np.sum(np.sin(2*k*np.pi/(N+1))**2*Nk)\n",
    "    σ1zσ2z = σ1z*σ2z-σ1xσ2x**2\n",
    "\n",
    "    δ = np.sqrt(4*σ1xσ2x**2+(σ1z-σ2z)**2)\n",
    "    p1 = (1 + σ1z + σ2z + σ1zσ2z)/4\n",
    "    p2 = (1 - δ - σ1zσ2z)/4\n",
    "    p3 = (1 + δ - σ1zσ2z)/4\n",
    "    p4 = (1 - σ1z - σ2z + σ1zσ2z)/4\n",
    "    \n",
    "    return np.array([p1,p2,p3,p4])\n",
    "\n",
    "\n",
    "\n",
    "def get_Hmf_EVs(h,J,β,N):\n",
    "    \n",
    "    k = np.arange(N)+1\n",
    "    λk = h - 2*J*np.cos(k*np.pi/(N+1))\n",
    "    \n",
    "    NS = 2\n",
    "    NB = N-NS\n",
    "    \n",
    "    kB = np.arange(NB)+1\n",
    "    λkB = h - 2*J*np.cos(kB*np.pi/(NB+1))\n",
    "    \n",
    "    # note the sign difference\n",
    "    logZ = (β*N*h/2) + np.sum(np.logaddexp(0,-β*λk))\n",
    "    logZB = (β*NB*h/2) + np.sum(np.logaddexp(0,-β*λkB))\n",
    "        \n",
    "    ρEVs = get_density_EVs(h,J,β,N)\n",
    "\n",
    "    return -1/β*np.log(ρEVs) - 1/β*(logZ-logZB)"
   ]
  },
  {
   "cell_type": "code",
   "execution_count": 4,
   "metadata": {},
   "outputs": [],
   "source": [
    "s = 1/2\n",
    "M = int(2*s+1)\n",
    "\n",
    "N = 18\n",
    "n = M**N"
   ]
  },
  {
   "cell_type": "code",
   "execution_count": 5,
   "metadata": {},
   "outputs": [],
   "source": [
    "J = 1\n",
    "h = .3*J\n",
    "\n",
    "Jz_T_base = h*np.ones(N)\n",
    "J_T_base = np.zeros((N,N))\n",
    "for i in range(N):\n",
    "    for j in range(N):\n",
    "        if np.abs(i-j)==1: # horizontal neighbor\n",
    "            J_T_base[i,j] = J\n",
    "            \n",
    "N_S = 2\n",
    "N_B = N - N_S\n",
    "\n",
    "S_idx = [0,1]\n",
    "B_idx = np.setdiff1d(np.arange(N),S_idx)"
   ]
  },
  {
   "cell_type": "code",
   "execution_count": 6,
   "metadata": {},
   "outputs": [
    {
     "name": "stdout",
     "output_type": "stream",
     "text": [
      "problem: 100, 30, 99/100\n",
      "nave: 99\r"
     ]
    }
   ],
   "source": [
    "n_ave = 100\n",
    "k = 30\n",
    "n_trials = 100\n",
    "\n",
    "βs = 1/np.logspace(-2.6,3,80)\n",
    "\n",
    "\n",
    "permute = np.hstack([S_idx,B_idx])\n",
    "permute_inv = np.argsort(permute)\n",
    "J_T = J_T_base[np.ix_(permute,permute)]\n",
    "Jz_T = Jz_T_base[permute]\n",
    "\n",
    "J_B,J_S,J_I,Jz_B,Jz_S,Jz_I = get_connection_matrix(J_T,Jz_T,N_S)\n",
    "H_T,H_S,H_B,H_I,H_S_iso,H_B_iso = get_hamiltonians(J_T,Jz_T,N_S,s,method='explicit')\n",
    "\n",
    "# get base energy. This is used to avoid numerical overflow at low temperature\n",
    "E0,_ = sp.sparse.linalg.eigsh(H_T,1,which='SA')\n",
    "\n",
    "\n",
    "EVs = np.zeros((n_trials,len(βs),M**N_S))\n",
    "for i in range(n_trials):\n",
    "    clear_output(wait=True)\n",
    "    print(f'problem: {n_ave}, {k}, {i}/{n_trials}')\n",
    "\n",
    "    s_print = 1\n",
    "    trB_expH_T,tr_expH_B,trB_H_I = get_partial_traces(H_T,H_T,H_B_iso,βs,k,n_ave,M,N,N_S,N_B,E0,s_print)\n",
    "\n",
    "    for l,β in enumerate(βs):\n",
    "        try:\n",
    "            EVs[i,l] = np.linalg.eigvalsh(trB_expH_T[l]/tr_expH_B[l])\n",
    "        except:\n",
    "            pass"
   ]
  },
  {
   "cell_type": "code",
   "execution_count": 11,
   "metadata": {},
   "outputs": [],
   "source": [
    "np.save('chain_error_EVs',EVs)\n",
    "EVs=np.load('chain_error_EVs.npy')"
   ]
  },
  {
   "cell_type": "code",
   "execution_count": 7,
   "metadata": {},
   "outputs": [
    {
     "name": "stderr",
     "output_type": "stream",
     "text": [
      "<ipython-input-3-9b79842035ca>:6: RuntimeWarning: overflow encountered in exp\n",
      "  Nk = 1/(1+np.exp(β*λk))\n"
     ]
    }
   ],
   "source": [
    "ρmf_EVs_theory = np.zeros((len(βs),4))\n",
    "for i,β in enumerate(βs):\n",
    "    ρmf_EVs_theory[i] = get_density_EVs(h,J,β,N)"
   ]
  },
  {
   "cell_type": "code",
   "execution_count": 8,
   "metadata": {},
   "outputs": [
    {
     "name": "stderr",
     "output_type": "stream",
     "text": [
      "<ipython-input-3-9b79842035ca>:6: RuntimeWarning: overflow encountered in exp\n",
      "  Nk = 1/(1+np.exp(β*λk))\n"
     ]
    }
   ],
   "source": [
    "Hmf_EVs_theory = np.zeros((len(βs),4))\n",
    "for i,β in enumerate(βs):\n",
    "    Hmf_EVs_theory[i] = get_Hmf_EVs(h,J,β,N)"
   ]
  },
  {
   "cell_type": "code",
   "execution_count": 9,
   "metadata": {},
   "outputs": [
    {
     "name": "stderr",
     "output_type": "stream",
     "text": [
      "<ipython-input-9-96d934429b34>:5: ComplexWarning: Casting complex values to real discards the imaginary part\n",
      "  ρ0[m,n] = (ψ0[m*M**N_B:(m+1)*M**N_B].conj().T@ψ0[n*M**N_B:(n+1)*M**N_B])[0,0]\n"
     ]
    }
   ],
   "source": [
    "E0,ψ0 = sp.sparse.linalg.eigsh(H_T,1,which='SA')\n",
    "ρ0 = np.zeros((M**N_S,M**N_S))\n",
    "for m in range(M**N_S):\n",
    "    for n in range(M**N_S):\n",
    "        ρ0[m,n] = (ψ0[m*M**N_B:(m+1)*M**N_B].conj().T@ψ0[n*M**N_B:(n+1)*M**N_B])[0,0]\n",
    "        \n",
    "ρEVs_lt = np.linalg.eigvalsh(ρ0)\n",
    "\n",
    "E0B,_ = sp.sparse.linalg.eigsh(H_B_iso,1,which='SA')"
   ]
  },
  {
   "cell_type": "code",
   "execution_count": 10,
   "metadata": {},
   "outputs": [
    {
     "data": {
      "image/png": "[encoded data removed]",
      "text/plain": [
       "<Figure size 432x576 with 2 Axes>"
      ]
     },
     "metadata": {
      "needs_background": "light"
     },
     "output_type": "display_data"
    }
   ],
   "source": [
    "fig,axs = plt.subplots(2,1,figsize=(6,8),gridspec_kw={'height_ratios': [6,6]})\n",
    "fig.subplots_adjust(hspace=.15)\n",
    "\n",
    "#axs = [None,axs[0],axs[1]]\n",
    "if False:\n",
    "    axs[0].set_aspect('equal')\n",
    "\n",
    "    for ii in range(N):\n",
    "        axs[0].add_patch(Circle((ii%N,ii//N),.15/2, facecolor='k',edgecolor=None,zorder=10))\n",
    "        for jj in range(ii):\n",
    "            if J_T_base[ii,jj] == 1:\n",
    "                axs[0].plot([ii%N,jj%N],[ii//N,jj//N],lw=1,color='k')\n",
    "\n",
    "            for S in S_idx:\n",
    "                axs[0].add_patch(Circle((S%N,S//N), .25/2, facecolor='None',edgecolor='r',zorder=10))\n",
    "\n",
    "    axs[0].set_axis_off()\n",
    "    \n",
    "    \n",
    "permute = np.hstack([S_idx,B_idx])\n",
    "permute_inv = np.argsort(permute)\n",
    "J_T = np.copy(J_T_base)[np.ix_(permute,permute)]\n",
    "Jz_T = np.copy(Jz_T_base)[permute]\n",
    "\n",
    "isolated_EVs = np.linalg.eigvalsh(H_S_iso.A)\n",
    "\n",
    "#ρEVs_iso = np.exp(-βs[:,None]*isolated_EVs)/np.sum(np.exp(-βs[:,None]*isolated_EVs),axis=1)[:,None]\n",
    "#axs[0].plot(1/βs,ρEVs_iso,lw=1,ls=':',color='k',label='bare system')\n",
    "\n",
    "ρEVs = np.copy(EVs)\n",
    "ρEVs /= np.sum(ρEVs,axis=2)[:,:,None]\n",
    "ρEVs_med = np.nanquantile(ρEVs,.5,axis=0)\n",
    "\n",
    "ρEVs_top = np.nanquantile(ρEVs,.9,axis=0)\n",
    "ρEVs_bot = np.nanquantile(ρEVs,.1,axis=0)\n",
    "\n",
    "\n",
    "axs[0].plot(1/βs,ρEVs_med,lw=1.2,color='k',label='system in bath')\n",
    "for j in range(4):\n",
    "    axs[0].fill_between(1/βs,ρEVs_top[:,j],ρEVs_bot[:,j],color='k',alpha=.2)\n",
    "\n",
    "for E in ρEVs_lt:\n",
    "    axs[0].axhline(E,0,.1,lw=1,ls=':',color='k',label='bare system')\n",
    "axs[0].axhline(1/M**N_S,.8,1,lw=1,ls=':',color='k',label='bare system')\n",
    "\n",
    "\n",
    "# theoretical limit\n",
    "axs[0].plot(1/βs,ρmf_EVs_theory,lw=1.8,color='k',ls=(0, (2, 3)),label='theory');\n",
    "axs[0].set_xscale('log')\n",
    "    \n",
    "#handles, labels = axs[0].get_legend_handles_labels()\n",
    "#unique = [(h, l) for i, (h, l) in enumerate(zip(handles, labels)) if l not in labels[:i]]\n",
    "#axs[0].legend(*zip(*unique))\n",
    "\n",
    "axs[0].set_xscale('log')\n",
    "axs[0].set_ylabel('eigenvalues of $\\\\rho^*\\!(\\\\beta)$')\n",
    "\n",
    "#axs[0].set_xlabel('temperature')\n",
    "\n",
    "# ===============\n",
    "# bottom plot\n",
    "# ===============\n",
    "\n",
    "for E in isolated_EVs:\n",
    "    axs[1].axhline(E,.8,1,lw=1,ls=':',color='k',label='bare system')\n",
    "axs[1].axhline(E0-E0B,0,.2,ls=':',lw=1,color='k',label='energy difference')\n",
    "\n",
    "H_mf_EVs = -1/βs[:,None]*np.log(EVs)\n",
    "H_mf_EVs_med = np.quantile(H_mf_EVs,.5,axis=0)\n",
    "\n",
    "H_mf_EVs_top = np.quantile(H_mf_EVs,.9,axis=0)\n",
    "H_mf_EVs_bot = np.quantile(H_mf_EVs,.1,axis=0)\n",
    "\n",
    "axs[1].plot(1/βs,H_mf_EVs_med,lw=1.2,color='k',label='system in bath')\n",
    "for j in range(4):\n",
    "    axs[1].fill_between(1/βs,H_mf_EVs_top[:,j],H_mf_EVs_bot[:,j],color='k',alpha=.2)\n",
    "\n",
    "\n",
    "# theoretical limit\n",
    "axs[1].plot(1/βs,Hmf_EVs_theory,lw=1.8,color='k',ls=(0, (2, 3)),label='theory');\n",
    "axs[1].set_xscale('log')\n",
    "\n",
    "#handles, labels = axs[1].get_legend_handles_labels()\n",
    "#unique = [(h, l) for i, (h, l) in enumerate(zip(handles, labels)) if l not in labels[:i]]\n",
    "#axs[1].legend(*zip(*unique))\n",
    "\n",
    "axs[1].set_xscale('log')\n",
    "axs[1].set_xlabel('temperature: $J/\\\\beta$)')\n",
    "axs[1].set_ylabel('eigenvalues of $H^*\\!(\\\\beta)$')\n",
    "\n",
    "\n",
    "#axs[1].plot(1/βs,-np.sum(ρEVs_med*np.log(ρEVs_med),axis=1))\n",
    "#axs[1].set_xscale('log')\n",
    "\n",
    "plt.savefig('spin_imgs/chain_eigs.pdf',bbox_inches='tight')"
   ]
  },
  {
   "cell_type": "code",
   "execution_count": null,
   "metadata": {},
   "outputs": [],
   "source": []
  }
 ],
 "metadata": {
  "kernelspec": {
   "display_name": "Python 3",
   "language": "python",
   "name": "python3"
  },
  "language_info": {
   "codemirror_mode": {
    "name": "ipython",
    "version": 3
   },
   "file_extension": ".py",
   "mimetype": "text/x-python",
   "name": "python",
   "nbconvert_exporter": "python",
   "pygments_lexer": "ipython3",
   "version": "3.8.3"
  }
 },
 "nbformat": 4,
 "nbformat_minor": 5
}
