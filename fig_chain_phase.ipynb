{
 "cells": [
  {
   "cell_type": "code",
   "execution_count": 1,
   "metadata": {},
   "outputs": [],
   "source": [
    "import numpy as np\n",
    "import scipy as sp\n",
    "from scipy import io,integrate,sparse\n",
    "import matplotlib.pyplot as plt\n",
    "from matplotlib.lines import Line2D\n",
    "import matplotlib.patches as mpatches\n",
    "from matplotlib.patches import Rectangle,Circle\n",
    "\n",
    "from quantum import *\n",
    "#from lanczos_bin import mystep,distribution\n",
    "\n",
    "from IPython.display import clear_output\n",
    "np.set_printoptions(linewidth=300)\n",
    "%load_ext autoreload\n",
    "%autoreload 2"
   ]
  },
  {
   "cell_type": "code",
   "execution_count": 2,
   "metadata": {},
   "outputs": [],
   "source": [
    "plt.rcParams['text.latex.preamble'] = r'\\renewcommand{\\vec}{\\mathbf}'\n",
    "plt.rc('text', usetex=True)\n",
    "plt.rc('font', family='serif')"
   ]
  },
  {
   "cell_type": "markdown",
   "metadata": {},
   "source": [
    "## Set up system"
   ]
  },
  {
   "cell_type": "code",
   "execution_count": 3,
   "metadata": {},
   "outputs": [],
   "source": [
    "s = 1/2\n",
    "M = int(2*s+1)\n",
    "\n",
    "N = 16\n",
    "n = M**N\n",
    "\n",
    "N_S = 2\n",
    "N_B = N - N_S\n",
    "\n",
    "S_idx = [0,1]\n",
    "B_idx = np.setdiff1d(np.arange(N),S_idx)"
   ]
  },
  {
   "cell_type": "code",
   "execution_count": 4,
   "metadata": {},
   "outputs": [
    {
     "name": "stderr",
     "output_type": "stream",
     "text": [
      "<ipython-input-4-e7d201059ed9>:4: RuntimeWarning: divide by zero encountered in true_divide\n",
      "  θs = np.arctan(1/hs)\n"
     ]
    }
   ],
   "source": [
    "J = 1\n",
    "hs = np.linspace(0,2.5,501)\n",
    "                \n",
    "θs = np.arctan(1/hs)\n",
    "α = 1,\n",
    "βs = 1/np.logspace(-2.5,2,100)"
   ]
  },
  {
   "cell_type": "code",
   "execution_count": 5,
   "metadata": {},
   "outputs": [],
   "source": [
    "n_ave = 500\n",
    "k = 60\n",
    "\n",
    "EVs = np.zeros((len(θs),len(βs),M**N_S))\n",
    "GSEVs = np.zeros((len(θs),M**N_S))"
   ]
  },
  {
   "cell_type": "code",
   "execution_count": 6,
   "metadata": {},
   "outputs": [],
   "source": [
    "idxs = [1,50,100,150,200,250,300,350,400,450]\n",
    "idxs += list(set(range(10,450,10)).difference(set(idxs)))\n",
    "idxs += [75,145,185,215,245,255,265,275,65,72,135,142,188,218,225,235,242,248,252,258,262,268,272,278,285,295,305,315,325,335,345,355,365,375,385,395,5,15,25,35,45,55,65,85,95,105,115,125,155,165,175,195,205,225,235]\n",
    "\n",
    "idxs = np.array(idxs,dtype='int')"
   ]
  },
  {
   "cell_type": "code",
   "execution_count": 7,
   "metadata": {},
   "outputs": [
    {
     "data": {
      "image/png": "[encoded data removed]",
      "text/plain": [
       "<Figure size 432x288 with 1 Axes>"
      ]
     },
     "metadata": {
      "needs_background": "light"
     },
     "output_type": "display_data"
    }
   ],
   "source": [
    "plt.plot(hs)\n",
    "for q in idxs:\n",
    "    plt.axhline(hs[q])"
   ]
  },
  {
   "cell_type": "code",
   "execution_count": 26,
   "metadata": {},
   "outputs": [
    {
     "name": "stdout",
     "output_type": "stream",
     "text": [
      "θ:235/501\n",
      "nave: 395\r"
     ]
    }
   ],
   "source": [
    "for q in idxs:\n",
    "    θ = θs[q]\n",
    "\n",
    "    h = np.cos(θ)/np.sin(θ)*J\n",
    "\n",
    "    Jz_T = h*np.ones(N)\n",
    "    J_T = np.zeros((N,N))\n",
    "    for i in range(N):\n",
    "        for j in range(N):\n",
    "            if i != j:\n",
    "                J_T[i,j] = 1/np.abs(i-j)**α\n",
    "\n",
    "    J_B,J_S,J_I,Jz_B,Jz_S,Jz_I = get_connection_matrix(J_T,Jz_T,N_S)\n",
    "\n",
    "    H_S_iso = get_hamiltonian(J_S[:N_S,:N_S],J_S[:N_S,:N_S],Jz_S[:N_S],s).tosparse()\n",
    "    H_B_iso = get_hamiltonian(J_B[N_S:,N_S:],J_B[N_S:,N_S:],Jz_B[N_S:],s).tosparse()\n",
    "    H_I = get_hamiltonian(J_I,J_I,Jz_I,s).tosparse()\n",
    "\n",
    "    H_S = sp.sparse.kron(H_S_iso,sp.sparse.eye((2*s+1)**N_B)).tocsr()\n",
    "    H_B = sp.sparse.kron(sp.sparse.eye((2*s+1)**N_S),H_B_iso).tocsr()\n",
    "    H_T = H_S + H_B + H_I\n",
    "\n",
    "\n",
    "    E0,ψ0 = sp.sparse.linalg.eigsh(H_T,1,which='SA')#,v0=(ψ0 if q>0 else None))\n",
    "    ρ0 = np.zeros((M**N_S,M**N_S))\n",
    "    for m in range(M**N_S):\n",
    "        for n in range(M**N_S):\n",
    "            ρ0[m,n] = (ψ0[m*M**N_B:(m+1)*M**N_B].conj().T@ψ0[n*M**N_B:(n+1)*M**N_B])[0,0]\n",
    "\n",
    "    try:\n",
    "        GSEVs[q] = np.linalg.eigvalsh(ρ0)\n",
    "    except:\n",
    "        pass \n",
    "\n",
    "    clear_output(wait=True)\n",
    "    print(f'θ:{q}/{len(θs)}')\n",
    "\n",
    "    s_print = 5\n",
    "    trB_expH_T,tr_expH_B,trB_H_I = get_partial_traces(H_T,H_I,H_B_iso,βs,k,n_ave,M,N,N_S,N_B,E0,s_print)\n",
    "\n",
    "    for l,β in enumerate(βs):\n",
    "        try:\n",
    "            EVs[q,l] = np.linalg.eigvalsh(trB_expH_T[l]/tr_expH_B[l])\n",
    "        except:\n",
    "            pass \n",
    "\n",
    "    np.save(f'data/EVs_{N}_{k}_{n_ave}_{q}',[EVs[q],GSEVs[q],θs,βs])"
   ]
  }
 ],
 "metadata": {
  "kernelspec": {
   "display_name": "Python 3",
   "language": "python",
   "name": "python3"
  },
  "language_info": {
   "codemirror_mode": {
    "name": "ipython",
    "version": 3
   },
   "file_extension": ".py",
   "mimetype": "text/x-python",
   "name": "python",
   "nbconvert_exporter": "python",
   "pygments_lexer": "ipython3",
   "version": "3.8.3"
  }
 },
 "nbformat": 4,
 "nbformat_minor": 5
}
